{
 "cells": [
  {
   "cell_type": "code",
   "execution_count": 1,
   "id": "592a6ac6",
   "metadata": {},
   "outputs": [],
   "source": [
    "# VIT6D.ipynb refactored for Minty (Linux Mint)\n",
    "import torch\n",
    "import torch.nn as nn\n",
    "from torchvision import transforms\n",
    "from torch.utils.data import Dataset, DataLoader\n",
    "from PIL import Image\n",
    "import pandas as pd\n",
    "import os\n",
    "from tqdm import tqdm\n",
    "import timm\n",
    "import time\n",
    "import json\n",
    "import numpy as np"
   ]
  },
  {
   "cell_type": "code",
   "execution_count": 2,
   "id": "69243bb6",
   "metadata": {},
   "outputs": [],
   "source": [
    "with open(\"GlobVar.json\", \"r\") as file:\n",
    "    gv = json.load(file)\n",
    "mod_id = gv['mod_id']"
   ]
  },
  {
   "cell_type": "code",
   "execution_count": 3,
   "id": "87e5b772",
   "metadata": {
    "lines_to_next_cell": 1
   },
   "outputs": [],
   "source": [
    "\n",
    "# Constants and environment setup\n",
    "BATCH_ID = 5\n",
    "BATCH_SIZE = 32\n",
    "NUM_EPOCHS = 20\n",
    "LEARNING_RATE = 1e-4\n",
    "IMG_SIZE = 224  # Required input size for ViT\n",
    "\n",
    "# Paths assume Linux-style forward slashes\n",
    "BASE_DIR = os.path.expanduser(\"~/SKRIPSI/SCRIPTS\")  # Refactor path to be absolute\n",
    "DATASET_DIR = os.path.join(BASE_DIR, f\"dataset/batch{BATCH_ID}\")\n",
    "MODEL_SAVE_PATH = os.path.join(BASE_DIR, f\"model/ViT6DP_batch{BATCH_ID}.{mod_id}.pth\")\n",
    "\n",
    "# Use CUDA if available\n",
    "DEVICE = torch.device(\"cuda\" if torch.cuda.is_available() else \"cpu\")\n",
    "torch.cuda.empty_cache()"
   ]
  },
  {
   "cell_type": "code",
   "execution_count": 4,
   "id": "de6f4d3a",
   "metadata": {
    "lines_to_next_cell": 1
   },
   "outputs": [],
   "source": [
    "class PoseDataset(Dataset):\n",
    "    def __init__(self, image_dir, label_csv, transform=None):\n",
    "        self.image_dir = image_dir\n",
    "        self.labels = pd.read_csv(label_csv)\n",
    "        self.transform = transform\n",
    "\n",
    "    def __len__(self):\n",
    "        return len(self.labels)\n",
    "\n",
    "    def __getitem__(self, idx):\n",
    "        row = self.labels.iloc[idx]\n",
    "        img_path = os.path.join(self.image_dir, row['image_name'])\n",
    "        image = Image.open(img_path).convert('RGB')\n",
    "        label = torch.tensor(row[1:].values.astype('float32'))  # x, y, z, pitch, roll, yaw\n",
    "        if self.transform:\n",
    "            image = self.transform(image)\n",
    "        return image, label"
   ]
  },
  {
   "cell_type": "code",
   "execution_count": 5,
   "id": "d10edf29",
   "metadata": {
    "lines_to_next_cell": 1
   },
   "outputs": [],
   "source": [
    "transform = transforms.Compose([\n",
    "    transforms.Resize((IMG_SIZE, IMG_SIZE)),\n",
    "    transforms.ToTensor(),\n",
    "    transforms.Normalize([0.5] * 3, [0.5] * 3)\n",
    "])"
   ]
  },
  {
   "cell_type": "code",
   "execution_count": 6,
   "id": "81a43fbf",
   "metadata": {
    "lines_to_next_cell": 1
   },
   "outputs": [],
   "source": [
    "def get_dataloader(split):\n",
    "    image_dir = os.path.join(DATASET_DIR, split, 'images')\n",
    "    label_csv = os.path.join(DATASET_DIR, split, 'labels.csv')\n",
    "    dataset = PoseDataset(image_dir, label_csv, transform)\n",
    "    return DataLoader(dataset, batch_size=BATCH_SIZE, shuffle=(split == 'train'))\n",
    "\n",
    "train_loader = get_dataloader('train')\n",
    "val_loader = get_dataloader('val')"
   ]
  },
  {
   "cell_type": "code",
   "execution_count": 7,
   "id": "0c4e2da8",
   "metadata": {
    "lines_to_next_cell": 1
   },
   "outputs": [],
   "source": [
    "class ViT6DP(nn.Module):\n",
    "    def __init__(self):\n",
    "        super().__init__()\n",
    "        self.backbone = timm.create_model('vit_base_patch16_224', pretrained=True)\n",
    "        self.backbone.head = nn.Sequential(\n",
    "            nn.Linear(self.backbone.head.in_features, 512),\n",
    "            nn.ReLU(),\n",
    "            nn.Linear(512, 6)\n",
    "        )\n",
    "\n",
    "    def forward(self, x):\n",
    "        return self.backbone(x)"
   ]
  },
  {
   "cell_type": "code",
   "execution_count": 8,
   "id": "ac87251b",
   "metadata": {},
   "outputs": [],
   "source": [
    "def normalize_pose(pose):\n",
    "    translation = pose[:, :3]                     # [x, y, z]\n",
    "    rotation = pose[:, 3:]\n",
    "    return torch.cat([translation, rotation], dim=1)"
   ]
  },
  {
   "cell_type": "code",
   "execution_count": 9,
   "id": "7af30195",
   "metadata": {},
   "outputs": [],
   "source": [
    "def compute_rmse(pred, target):\n",
    "    pred_trans, pred_rot = pred[:, :3], pred[:, 3:]\n",
    "    target_trans, target_rot = target[:, :3], target[:, 3:]\n",
    "\n",
    "    trans_rmse = torch.sqrt(nn.MSELoss()(pred_trans, target_trans))\n",
    "    rot_rmse = torch.sqrt(nn.MSELoss()(pred_rot, target_rot))\n",
    "\n",
    "    return trans_rmse.item(), rot_rmse.item()"
   ]
  },
  {
   "cell_type": "code",
   "execution_count": 10,
   "id": "559f8205",
   "metadata": {},
   "outputs": [],
   "source": [
    "def combined_loss(pred, target, alpha=1.0, beta=1.0):\n",
    "    pred_trans, pred_rot = pred[:, :3], pred[:, 3:]\n",
    "    target_trans, target_rot = target[:, :3], target[:, 3:]\n",
    "\n",
    "    # Optionally normalize rotation\n",
    "    pred_rot = pred_rot\n",
    "    target_rot = target_rot\n",
    "\n",
    "    trans_loss = nn.MSELoss()(pred_trans, target_trans)\n",
    "    rot_loss = nn.MSELoss()(pred_rot, target_rot)\n",
    "    \n",
    "    return alpha * trans_loss + beta * rot_loss\n"
   ]
  },
  {
   "cell_type": "code",
   "execution_count": 11,
   "id": "f021f0ea",
   "metadata": {
    "lines_to_next_cell": 1
   },
   "outputs": [],
   "source": [
    "model = ViT6DP().to(DEVICE)\n",
    "criterion = nn.MSELoss()\n",
    "optimizer = torch.optim.Adam(model.parameters(), lr=LEARNING_RATE)"
   ]
  },
  {
   "cell_type": "code",
   "execution_count": 12,
   "id": "e01d6f41",
   "metadata": {
    "lines_to_next_cell": 1
   },
   "outputs": [],
   "source": [
    "def train(validate=True):\n",
    "    now = []\n",
    "    now.append(time.time())\n",
    "    for epoch in range(NUM_EPOCHS):\n",
    "        print(\"\\n\")\n",
    "        model.train()\n",
    "        running_loss = 0.0\n",
    "        for images, labels in tqdm(train_loader):\n",
    "            \n",
    "            images, labels = images.to(DEVICE), normalize_pose(labels.to(DEVICE))\n",
    "            outputs = normalize_pose(model(images))\n",
    "\n",
    "            loss = combined_loss(outputs, labels, alpha=1.0, beta=1.0)\n",
    "\n",
    "            optimizer.zero_grad()\n",
    "            loss.backward()\n",
    "            optimizer.step()\n",
    "\n",
    "            running_loss += loss.item()\n",
    "        \n",
    "        now.append(time.time())\n",
    "        avg_train_loss = running_loss / len(train_loader)\n",
    "        print(f\"Epoch {epoch + 1}/{NUM_EPOCHS}, Train Loss: {avg_train_loss:.4f}\")\n",
    "        print(f\"Time took per epoch : {epoch+1}: {int(now[epoch+1]-now[epoch])}s\")\n",
    "        if validate:\n",
    "            # Validation\n",
    "            model.eval()\n",
    "            val_loss = 0.0\n",
    "            total_trans_rmse, total_rot_rmse = 0.0, 0.0\n",
    "\n",
    "            with torch.no_grad():\n",
    "                for images, labels in val_loader:\n",
    "                    images, labels = images.to(DEVICE), normalize_pose(labels.to(DEVICE))\n",
    "                    outputs = normalize_pose(model(images))\n",
    "                    \n",
    "                    loss = combined_loss(outputs, labels)\n",
    "                    val_loss += loss.item()\n",
    "\n",
    "                    trans_rmse, rot_rmse = compute_rmse(outputs, labels)\n",
    "                    total_trans_rmse += trans_rmse\n",
    "                    total_rot_rmse += rot_rmse\n",
    "\n",
    "            avg_val_loss = val_loss / len(val_loader)\n",
    "            print(f\"Val Loss: {avg_val_loss:.4f}\")\n",
    "            print(f\"RMSE - Translation: {total_trans_rmse / len(val_loader):.4f}, \"\n",
    "                  f\"Rotation: {total_rot_rmse / len(val_loader):.4f}\")\n",
    "        else:\n",
    "            print(\"Skipping validation for this epoch.\")"
   ]
  },
  {
   "cell_type": "code",
   "execution_count": 13,
   "id": "4bafc972",
   "metadata": {},
   "outputs": [
    {
     "name": "stdout",
     "output_type": "stream",
     "text": [
      "\n",
      "\n"
     ]
    },
    {
     "name": "stderr",
     "output_type": "stream",
     "text": [
      "  0%|          | 0/50 [00:00<?, ?it/s]"
     ]
    },
    {
     "name": "stderr",
     "output_type": "stream",
     "text": [
      "100%|██████████| 50/50 [00:32<00:00,  1.54it/s]\n"
     ]
    },
    {
     "name": "stdout",
     "output_type": "stream",
     "text": [
      "Epoch 1/20, Train Loss: 0.1234\n",
      "Time took per epoch : 1: 32s\n",
      "Val Loss: 0.1019\n",
      "RMSE - Translation: 0.0671, Rotation: 0.3113\n",
      "\n",
      "\n"
     ]
    },
    {
     "name": "stderr",
     "output_type": "stream",
     "text": [
      "100%|██████████| 50/50 [00:32<00:00,  1.55it/s]\n"
     ]
    },
    {
     "name": "stdout",
     "output_type": "stream",
     "text": [
      "Epoch 2/20, Train Loss: 0.0955\n",
      "Time took per epoch : 2: 35s\n",
      "Val Loss: 0.0947\n",
      "RMSE - Translation: 0.0561, Rotation: 0.3021\n",
      "\n",
      "\n"
     ]
    },
    {
     "name": "stderr",
     "output_type": "stream",
     "text": [
      "100%|██████████| 50/50 [00:32<00:00,  1.55it/s]\n"
     ]
    },
    {
     "name": "stdout",
     "output_type": "stream",
     "text": [
      "Epoch 3/20, Train Loss: 0.0953\n",
      "Time took per epoch : 3: 35s\n",
      "Val Loss: 0.0973\n",
      "RMSE - Translation: 0.0533, Rotation: 0.3067\n",
      "\n",
      "\n"
     ]
    },
    {
     "name": "stderr",
     "output_type": "stream",
     "text": [
      "100%|██████████| 50/50 [00:32<00:00,  1.54it/s]\n"
     ]
    },
    {
     "name": "stdout",
     "output_type": "stream",
     "text": [
      "Epoch 4/20, Train Loss: 0.0889\n",
      "Time took per epoch : 4: 35s\n",
      "Val Loss: 0.0911\n",
      "RMSE - Translation: 0.0573, Rotation: 0.2962\n",
      "\n",
      "\n"
     ]
    },
    {
     "name": "stderr",
     "output_type": "stream",
     "text": [
      "100%|██████████| 50/50 [00:32<00:00,  1.54it/s]\n"
     ]
    },
    {
     "name": "stdout",
     "output_type": "stream",
     "text": [
      "Epoch 5/20, Train Loss: 0.0820\n",
      "Time took per epoch : 5: 35s\n",
      "Val Loss: 0.0831\n",
      "RMSE - Translation: 0.0531, Rotation: 0.2829\n",
      "\n",
      "\n"
     ]
    },
    {
     "name": "stderr",
     "output_type": "stream",
     "text": [
      "100%|██████████| 50/50 [00:32<00:00,  1.54it/s]\n"
     ]
    },
    {
     "name": "stdout",
     "output_type": "stream",
     "text": [
      "Epoch 6/20, Train Loss: 0.0622\n",
      "Time took per epoch : 6: 35s\n",
      "Val Loss: 0.0882\n",
      "RMSE - Translation: 0.0474, Rotation: 0.2920\n",
      "\n",
      "\n"
     ]
    },
    {
     "name": "stderr",
     "output_type": "stream",
     "text": [
      "100%|██████████| 50/50 [00:32<00:00,  1.54it/s]\n"
     ]
    },
    {
     "name": "stdout",
     "output_type": "stream",
     "text": [
      "Epoch 7/20, Train Loss: 0.0484\n",
      "Time took per epoch : 7: 35s\n",
      "Val Loss: 0.0949\n",
      "RMSE - Translation: 0.0447, Rotation: 0.3036\n",
      "\n",
      "\n"
     ]
    },
    {
     "name": "stderr",
     "output_type": "stream",
     "text": [
      "100%|██████████| 50/50 [00:32<00:00,  1.54it/s]\n"
     ]
    },
    {
     "name": "stdout",
     "output_type": "stream",
     "text": [
      "Epoch 8/20, Train Loss: 0.0332\n",
      "Time took per epoch : 8: 35s\n",
      "Val Loss: 0.0873\n",
      "RMSE - Translation: 0.0446, Rotation: 0.2893\n",
      "\n",
      "\n"
     ]
    },
    {
     "name": "stderr",
     "output_type": "stream",
     "text": [
      "100%|██████████| 50/50 [00:32<00:00,  1.54it/s]\n"
     ]
    },
    {
     "name": "stdout",
     "output_type": "stream",
     "text": [
      "Epoch 9/20, Train Loss: 0.0222\n",
      "Time took per epoch : 9: 35s\n",
      "Val Loss: 0.1096\n",
      "RMSE - Translation: 0.0458, Rotation: 0.3272\n",
      "\n",
      "\n"
     ]
    },
    {
     "name": "stderr",
     "output_type": "stream",
     "text": [
      "100%|██████████| 50/50 [00:32<00:00,  1.54it/s]\n"
     ]
    },
    {
     "name": "stdout",
     "output_type": "stream",
     "text": [
      "Epoch 10/20, Train Loss: 0.0183\n",
      "Time took per epoch : 10: 35s\n",
      "Val Loss: 0.0864\n",
      "RMSE - Translation: 0.0395, Rotation: 0.2901\n",
      "\n",
      "\n"
     ]
    },
    {
     "name": "stderr",
     "output_type": "stream",
     "text": [
      "100%|██████████| 50/50 [00:32<00:00,  1.54it/s]\n"
     ]
    },
    {
     "name": "stdout",
     "output_type": "stream",
     "text": [
      "Epoch 11/20, Train Loss: 0.0101\n",
      "Time took per epoch : 11: 35s\n",
      "Val Loss: 0.0888\n",
      "RMSE - Translation: 0.0405, Rotation: 0.2927\n",
      "\n",
      "\n"
     ]
    },
    {
     "name": "stderr",
     "output_type": "stream",
     "text": [
      "100%|██████████| 50/50 [00:32<00:00,  1.54it/s]\n"
     ]
    },
    {
     "name": "stdout",
     "output_type": "stream",
     "text": [
      "Epoch 12/20, Train Loss: 0.0070\n",
      "Time took per epoch : 12: 35s\n",
      "Val Loss: 0.0836\n",
      "RMSE - Translation: 0.0366, Rotation: 0.2855\n",
      "\n",
      "\n"
     ]
    },
    {
     "name": "stderr",
     "output_type": "stream",
     "text": [
      "100%|██████████| 50/50 [00:32<00:00,  1.54it/s]\n"
     ]
    },
    {
     "name": "stdout",
     "output_type": "stream",
     "text": [
      "Epoch 13/20, Train Loss: 0.0054\n",
      "Time took per epoch : 13: 35s\n",
      "Val Loss: 0.1006\n",
      "RMSE - Translation: 0.0361, Rotation: 0.3143\n",
      "\n",
      "\n"
     ]
    },
    {
     "name": "stderr",
     "output_type": "stream",
     "text": [
      "100%|██████████| 50/50 [00:32<00:00,  1.54it/s]\n"
     ]
    },
    {
     "name": "stdout",
     "output_type": "stream",
     "text": [
      "Epoch 14/20, Train Loss: 0.0075\n",
      "Time took per epoch : 14: 35s\n",
      "Val Loss: 0.0945\n",
      "RMSE - Translation: 0.0374, Rotation: 0.3038\n",
      "\n",
      "\n"
     ]
    },
    {
     "name": "stderr",
     "output_type": "stream",
     "text": [
      "100%|██████████| 50/50 [00:32<00:00,  1.54it/s]\n"
     ]
    },
    {
     "name": "stdout",
     "output_type": "stream",
     "text": [
      "Epoch 15/20, Train Loss: 0.0081\n",
      "Time took per epoch : 15: 35s\n",
      "Val Loss: 0.0939\n",
      "RMSE - Translation: 0.0395, Rotation: 0.3015\n",
      "\n",
      "\n"
     ]
    },
    {
     "name": "stderr",
     "output_type": "stream",
     "text": [
      "100%|██████████| 50/50 [00:32<00:00,  1.54it/s]\n"
     ]
    },
    {
     "name": "stdout",
     "output_type": "stream",
     "text": [
      "Epoch 16/20, Train Loss: 0.0092\n",
      "Time took per epoch : 16: 35s\n",
      "Val Loss: 0.0977\n",
      "RMSE - Translation: 0.0381, Rotation: 0.3097\n",
      "\n",
      "\n"
     ]
    },
    {
     "name": "stderr",
     "output_type": "stream",
     "text": [
      "100%|██████████| 50/50 [00:32<00:00,  1.54it/s]\n"
     ]
    },
    {
     "name": "stdout",
     "output_type": "stream",
     "text": [
      "Epoch 17/20, Train Loss: 0.0116\n",
      "Time took per epoch : 17: 35s\n",
      "Val Loss: 0.0899\n",
      "RMSE - Translation: 0.0396, Rotation: 0.2961\n",
      "\n",
      "\n"
     ]
    },
    {
     "name": "stderr",
     "output_type": "stream",
     "text": [
      "100%|██████████| 50/50 [00:32<00:00,  1.54it/s]\n"
     ]
    },
    {
     "name": "stdout",
     "output_type": "stream",
     "text": [
      "Epoch 18/20, Train Loss: 0.0085\n",
      "Time took per epoch : 18: 35s\n",
      "Val Loss: 0.0926\n",
      "RMSE - Translation: 0.0399, Rotation: 0.3004\n",
      "\n",
      "\n"
     ]
    },
    {
     "name": "stderr",
     "output_type": "stream",
     "text": [
      "100%|██████████| 50/50 [00:32<00:00,  1.54it/s]\n"
     ]
    },
    {
     "name": "stdout",
     "output_type": "stream",
     "text": [
      "Epoch 19/20, Train Loss: 0.0087\n",
      "Time took per epoch : 19: 35s\n",
      "Val Loss: 0.0838\n",
      "RMSE - Translation: 0.0374, Rotation: 0.2863\n",
      "\n",
      "\n"
     ]
    },
    {
     "name": "stderr",
     "output_type": "stream",
     "text": [
      "100%|██████████| 50/50 [00:32<00:00,  1.54it/s]\n"
     ]
    },
    {
     "name": "stdout",
     "output_type": "stream",
     "text": [
      "Epoch 20/20, Train Loss: 0.0057\n",
      "Time took per epoch : 20: 35s\n",
      "Val Loss: 0.0880\n",
      "RMSE - Translation: 0.0365, Rotation: 0.2935\n"
     ]
    }
   ],
   "source": [
    "train(validate=True)"
   ]
  },
  {
   "cell_type": "code",
   "execution_count": 14,
   "id": "e0aa676b",
   "metadata": {},
   "outputs": [],
   "source": [
    "torch.save(model.state_dict(), MODEL_SAVE_PATH)\n",
    "gv['mod_id'] = mod_id + 1\n",
    "# Save the updated JSON back to the file\n",
    "with open(\"GlobVar.json\", \"w\") as file:\n",
    "    json.dump(gv, file, indent=4)"
   ]
  },
  {
   "cell_type": "code",
   "execution_count": 15,
   "id": "c03eac5b",
   "metadata": {
    "lines_to_next_cell": 1
   },
   "outputs": [],
   "source": [
    "test_loader = get_dataloader('test')"
   ]
  },
  {
   "cell_type": "code",
   "execution_count": 16,
   "id": "94ac53c6",
   "metadata": {
    "lines_to_next_cell": 1
   },
   "outputs": [],
   "source": [
    "def test_model(model_path):\n",
    "    model = ViT6DP().to(DEVICE)\n",
    "    model.load_state_dict(torch.load(model_path, map_location=DEVICE))\n",
    "    model.eval()\n",
    "\n",
    "    test_total_loss = 0.0\n",
    "    test_total_trans_rmse, test_total_rot_rmse = 0.0, 0.0\n",
    "    preds = []\n",
    "    gts = []\n",
    "\n",
    "    with torch.no_grad():\n",
    "        for images, labels in tqdm(test_loader):\n",
    "            images, labels = images.to(DEVICE), normalize_pose(labels.to(DEVICE))\n",
    "            outputs = normalize_pose(model(images))\n",
    "\n",
    "            loss = combined_loss(outputs, labels)\n",
    "            test_total_loss += loss.item()\n",
    "\n",
    "            trans_rmse, rot_rmse = compute_rmse(outputs, labels)\n",
    "            test_total_trans_rmse += trans_rmse\n",
    "            test_total_rot_rmse += rot_rmse\n",
    "\n",
    "            preds.extend(outputs.cpu().numpy())\n",
    "            gts.extend(labels.cpu().numpy())\n",
    "\n",
    "    test_avg_loss = test_total_loss / len(test_loader)\n",
    "    print(f\"Test Loss: {test_avg_loss:.4f}\")\n",
    "    print(f\"Test RMSE - Translation: {test_total_trans_rmse / len(test_loader):.4f}, \"\n",
    "          f\"Rotation: {test_total_rot_rmse / len(test_loader):.4f}\")\n",
    "\n",
    "    return preds, gts, test_avg_loss, test_total_trans_rmse, test_total_rot_rmse"
   ]
  },
  {
   "cell_type": "code",
   "execution_count": 17,
   "id": "7d947127",
   "metadata": {
    "lines_to_next_cell": 1
   },
   "outputs": [
    {
     "name": "stderr",
     "output_type": "stream",
     "text": [
      "100%|██████████| 15/15 [00:05<00:00,  2.66it/s]"
     ]
    },
    {
     "name": "stdout",
     "output_type": "stream",
     "text": [
      "Test Loss: 0.0882\n",
      "Test RMSE - Translation: 0.0374, Rotation: 0.2934\n"
     ]
    },
    {
     "name": "stderr",
     "output_type": "stream",
     "text": [
      "\n"
     ]
    }
   ],
   "source": [
    "predictions, ground_truths, test_avg_loss, test_total_trans_rmse, test_total_rot_rmse = test_model(MODEL_SAVE_PATH)"
   ]
  },
  {
   "cell_type": "code",
   "execution_count": 18,
   "id": "19c1ff78",
   "metadata": {
    "lines_to_next_cell": 1
   },
   "outputs": [],
   "source": [
    "def validate_model(model_path):\n",
    "    model = ViT6DP().to(DEVICE)\n",
    "    model.load_state_dict(torch.load(model_path, map_location=DEVICE))\n",
    "    model.eval()\n",
    "\n",
    "    val_total_loss = 0.0\n",
    "    val_total_trans_rmse, val_total_rot_rmse = 0.0, 0.0\n",
    "    preds = []\n",
    "    gts = []\n",
    "\n",
    "    with torch.no_grad():\n",
    "        for images, labels in tqdm(val_loader):\n",
    "            images, labels = images.to(DEVICE), normalize_pose(labels.to(DEVICE))\n",
    "            outputs = normalize_pose(model(images))\n",
    "\n",
    "            loss = combined_loss(outputs, labels)\n",
    "            val_total_loss += loss.item()\n",
    "\n",
    "            trans_rmse, rot_rmse = compute_rmse(outputs, labels)\n",
    "            val_total_trans_rmse += trans_rmse\n",
    "            val_total_rot_rmse += rot_rmse\n",
    "\n",
    "            preds.extend(outputs.cpu().numpy())\n",
    "            gts.extend(labels.cpu().numpy())\n",
    "\n",
    "    val_avg_loss = val_total_loss / len(val_loader)\n",
    "    print(f\"Validation Loss: {val_avg_loss:.4f}\")\n",
    "    print(f\"Validation RMSE - Translation: {val_total_trans_rmse / len(val_loader):.4f}, \"\n",
    "          f\"Rotation: {val_total_rot_rmse / len(val_loader):.4f}\")\n",
    "\n",
    "    return preds, gts, val_avg_loss, val_total_trans_rmse, val_total_rot_rmse"
   ]
  },
  {
   "cell_type": "code",
   "execution_count": 19,
   "id": "1db70a1b",
   "metadata": {},
   "outputs": [
    {
     "name": "stderr",
     "output_type": "stream",
     "text": [
      "100%|██████████| 8/8 [00:02<00:00,  2.86it/s]"
     ]
    },
    {
     "name": "stdout",
     "output_type": "stream",
     "text": [
      "Validation Loss: 0.0880\n",
      "Validation RMSE - Translation: 0.0365, Rotation: 0.2935\n"
     ]
    },
    {
     "name": "stderr",
     "output_type": "stream",
     "text": [
      "\n"
     ]
    }
   ],
   "source": [
    "val_predictions, val_ground_truths, val_avg_loss, val_total_trans_rmse, val_total_rot_rmse = validate_model(MODEL_SAVE_PATH)"
   ]
  },
  {
   "cell_type": "code",
   "execution_count": 20,
   "id": "a6003a5c",
   "metadata": {},
   "outputs": [],
   "source": [
    "torch.cuda.empty_cache()"
   ]
  },
  {
   "cell_type": "code",
   "execution_count": 21,
   "id": "755b7c65",
   "metadata": {},
   "outputs": [],
   "source": [
    "# Calculate accuracy metrics\n",
    "def calculate_accuracy_metrics(predictions, ground_truths):\n",
    "    # Convert to numpy arrays if they're not already\n",
    "    preds = np.array(predictions)\n",
    "    gts = np.array(ground_truths)\n",
    "    \n",
    "    # Translation metrics (convert from normalized to cm)\n",
    "    # Assuming original data was in meters and normalized to 0±1 range (~1m range)\n",
    "    trans_pred = preds[:, :3] * 100  # Convert to cm\n",
    "    trans_gt = gts[:, :3] * 100      # Convert to cm\n",
    "    trans_error = np.abs(trans_pred - trans_gt)\n",
    "    trans_accuracy_cm = np.mean(trans_error)\n",
    "    \n",
    "    # Rotation metrics (convert from normalized to degrees)\n",
    "    # Assuming original data was in degrees and normalized by 360\n",
    "    rot_pred = preds[:, 3:] * 360    # Convert to degrees\n",
    "    rot_gt = gts[:, 3:] * 360        # Convert to degrees\n",
    "    rot_error = np.abs(rot_pred - rot_gt)\n",
    "    # Handle angle wrapping (e.g., 359° and 1° should have 2° difference, not 358°)\n",
    "    rot_error = np.minimum(rot_error, 360 - rot_error)\n",
    "    rot_accuracy_deg = np.mean(rot_error)\n",
    "    \n",
    "    return trans_accuracy_cm, rot_accuracy_deg"
   ]
  },
  {
   "cell_type": "code",
   "execution_count": 22,
   "id": "744013ef",
   "metadata": {},
   "outputs": [],
   "source": [
    "# Calculate accuracy metrics for validation and test sets\n",
    "val_trans_acc, val_rot_acc = calculate_accuracy_metrics(val_predictions, val_ground_truths)\n",
    "test_trans_acc, test_rot_acc = calculate_accuracy_metrics(predictions, ground_truths)\n"
   ]
  },
  {
   "cell_type": "code",
   "execution_count": null,
   "id": "6f2d42f9",
   "metadata": {},
   "outputs": [
    {
     "name": "stdout",
     "output_type": "stream",
     "text": [
      "Evaluation report saved to: /home/moreno/SKRIPSI/SCRIPTS/model/Eval_5.md\n"
     ]
    }
   ],
   "source": [
    "# Generate eval.md with evaluation metrics\n",
    "eval_content = f\"\"\"# Evaluation Results - Batch {BATCH_ID}\n",
    "\n",
    "## Training Configuration\n",
    "- Batch Size: {BATCH_SIZE}\n",
    "- Epochs: {NUM_EPOCHS}\n",
    "- Learning Rate: {LEARNING_RATE}\n",
    "- Image Size: {IMG_SIZE}\n",
    "- Device: {DEVICE}\n",
    "\n",
    "## Model Architecture\n",
    "- Backbone: ViT Base Patch16 224\n",
    "- Head: Linear(768->512->6)\n",
    "\n",
    "## Evaluation Metrics\n",
    "\n",
    "### Validation Set\n",
    "- Average Loss: {val_avg_loss:.4f}\n",
    "- Translation RMSE: {val_total_trans_rmse / len(val_loader):.4f} (normalized)\n",
    "- Rotation RMSE: {val_total_rot_rmse / len(val_loader):.4f} (normalized)\n",
    "- Translation Accuracy: {val_trans_acc:.2f} cm\n",
    "- Rotation Accuracy: {val_rot_acc:.2f}°\n",
    "\n",
    "### Test Set\n",
    "- Average Loss: {test_avg_loss:.4f}\n",
    "- Translation RMSE: {test_total_trans_rmse / len(test_loader):.4f} (normalized)\n",
    "- Rotation RMSE: {test_total_rot_rmse / len(test_loader):.4f} (normalized)\n",
    "- Translation Accuracy: {test_trans_acc:.2f} cm\n",
    "- Rotation Accuracy: {test_rot_acc:.2f}°\n",
    "\n",
    "## File Locations\n",
    "- Dataset Directory: {DATASET_DIR}\n",
    "- Model Save Path: {MODEL_SAVE_PATH}\n",
    "\"\"\"\n",
    "\n",
    "eval_path = os.path.join(os.path.dirname(MODEL_SAVE_PATH), f\"Eval_{BATCH_ID}.{mod_id}.md\")\n",
    "with open(eval_path, 'w') as f:\n",
    "    f.write(eval_content)\n",
    "    \n",
    "print(f\"Evaluation report saved to: {eval_path}\")"
   ]
  }
 ],
 "metadata": {
  "jupytext": {
   "cell_metadata_filter": "-all",
   "main_language": "python",
   "notebook_metadata_filter": "-all"
  },
  "kernelspec": {
   "display_name": "skripsi",
   "language": "python",
   "name": "python3"
  },
  "language_info": {
   "codemirror_mode": {
    "name": "ipython",
    "version": 3
   },
   "file_extension": ".py",
   "mimetype": "text/x-python",
   "name": "python",
   "nbconvert_exporter": "python",
   "pygments_lexer": "ipython3",
   "version": "3.12.3"
  }
 },
 "nbformat": 4,
 "nbformat_minor": 5
}
