{
 "cells": [
  {
   "cell_type": "code",
   "execution_count": 29,
   "id": "592a6ac6",
   "metadata": {},
   "outputs": [],
   "source": [
    "\n",
    "# VIT6D.ipynb refactored for Minty (Linux Mint)\n",
    "import torch\n",
    "import torch.nn as nn\n",
    "from torchvision import transforms\n",
    "from torch.utils.data import Dataset, DataLoader\n",
    "from PIL import Image\n",
    "import pandas as pd\n",
    "import os\n",
    "from tqdm import tqdm\n",
    "import timm\n",
    "import time"
   ]
  },
  {
   "cell_type": "code",
   "execution_count": 45,
   "id": "87e5b772",
   "metadata": {
    "lines_to_next_cell": 1
   },
   "outputs": [],
   "source": [
    "\n",
    "# Constants and environment setup\n",
    "BATCH_NUM = 3\n",
    "BATCH_SIZE = 32\n",
    "NUM_EPOCHS = 20\n",
    "LEARNING_RATE = 1e-4\n",
    "IMG_SIZE = 224  # Required input size for ViT\n",
    "\n",
    "# Paths assume Linux-style forward slashes\n",
    "BASE_DIR = os.path.expanduser(\"~/SKRIPSI/SCRIPTS\")  # Refactor path to be absolute\n",
    "DATASET_DIR = os.path.join(BASE_DIR, f\"dataset/batch{BATCH_NUM}\")\n",
    "MODEL_SAVE_PATH = os.path.join(BASE_DIR, f\"ViT6DP_batch{BATCH_NUM}.pth\")\n",
    "\n",
    "# Use CUDA if available\n",
    "DEVICE = torch.device(\"cuda\" if torch.cuda.is_available() else \"cpu\")"
   ]
  },
  {
   "cell_type": "code",
   "execution_count": 46,
   "id": "de6f4d3a",
   "metadata": {
    "lines_to_next_cell": 1
   },
   "outputs": [],
   "source": [
    "class PoseDataset(Dataset):\n",
    "    def __init__(self, image_dir, label_csv, transform=None):\n",
    "        self.image_dir = image_dir\n",
    "        self.labels = pd.read_csv(label_csv)\n",
    "        self.transform = transform\n",
    "\n",
    "    def __len__(self):\n",
    "        return len(self.labels)\n",
    "\n",
    "    def __getitem__(self, idx):\n",
    "        row = self.labels.iloc[idx]\n",
    "        img_path = os.path.join(self.image_dir, row['image_name'])\n",
    "        image = Image.open(img_path).convert('RGB')\n",
    "        label = torch.tensor(row[1:].values.astype('float32'))  # x, y, z, pitch, roll, yaw\n",
    "        if self.transform:\n",
    "            image = self.transform(image)\n",
    "        return image, label"
   ]
  },
  {
   "cell_type": "code",
   "execution_count": 47,
   "id": "d10edf29",
   "metadata": {
    "lines_to_next_cell": 1
   },
   "outputs": [],
   "source": [
    "transform = transforms.Compose([\n",
    "    transforms.Resize((IMG_SIZE, IMG_SIZE)),\n",
    "    transforms.ToTensor(),\n",
    "    transforms.Normalize([0.5] * 3, [0.5] * 3)\n",
    "])"
   ]
  },
  {
   "cell_type": "code",
   "execution_count": 48,
   "id": "81a43fbf",
   "metadata": {
    "lines_to_next_cell": 1
   },
   "outputs": [],
   "source": [
    "def get_dataloader(split):\n",
    "    image_dir = os.path.join(DATASET_DIR, split, 'images')\n",
    "    label_csv = os.path.join(DATASET_DIR, split, 'labels.csv')\n",
    "    dataset = PoseDataset(image_dir, label_csv, transform)\n",
    "    return DataLoader(dataset, batch_size=BATCH_SIZE, shuffle=(split == 'train'))\n",
    "\n",
    "train_loader = get_dataloader('train')\n",
    "val_loader = get_dataloader('val')"
   ]
  },
  {
   "cell_type": "code",
   "execution_count": 49,
   "id": "0c4e2da8",
   "metadata": {
    "lines_to_next_cell": 1
   },
   "outputs": [],
   "source": [
    "class ViT6DP(nn.Module):\n",
    "    def __init__(self):\n",
    "        super().__init__()\n",
    "        self.backbone = timm.create_model('vit_base_patch16_224', pretrained=True)\n",
    "        self.backbone.head = nn.Sequential(\n",
    "            nn.Linear(self.backbone.head.in_features, 512),\n",
    "            nn.ReLU(),\n",
    "            nn.Linear(512, 6)\n",
    "        )\n",
    "\n",
    "    def forward(self, x):\n",
    "        return self.backbone(x)"
   ]
  },
  {
   "cell_type": "code",
   "execution_count": 50,
   "id": "ac87251b",
   "metadata": {},
   "outputs": [],
   "source": [
    "def normalize_pose(pose):\n",
    "    translation = pose[:, :3]                     # [x, y, z]\n",
    "    rotation = pose[:, 3:] / 360.0                # Normalize rotation degrees to [0, 1] divide by 1 rotation / 2π / 360deg\n",
    "    return torch.cat([translation, rotation], dim=1)"
   ]
  },
  {
   "cell_type": "code",
   "execution_count": 51,
   "id": "7af30195",
   "metadata": {},
   "outputs": [],
   "source": [
    "def compute_rmse(pred, target):\n",
    "    pred_trans, pred_rot = pred[:, :3], pred[:, 3:]\n",
    "    target_trans, target_rot = target[:, :3], target[:, 3:]\n",
    "\n",
    "    trans_rmse = torch.sqrt(nn.MSELoss()(pred_trans, target_trans))\n",
    "    rot_rmse = torch.sqrt(nn.MSELoss()(pred_rot / 360.0, target_rot / 360.0))\n",
    "\n",
    "    return trans_rmse.item(), rot_rmse.item()"
   ]
  },
  {
   "cell_type": "code",
   "execution_count": 52,
   "id": "559f8205",
   "metadata": {},
   "outputs": [],
   "source": [
    "def combined_loss(pred, target, alpha=1.0, beta=1.0):\n",
    "    pred_trans, pred_rot = pred[:, :3], pred[:, 3:]\n",
    "    target_trans, target_rot = target[:, :3], target[:, 3:]\n",
    "\n",
    "    # Optionally normalize rotation\n",
    "    pred_rot = pred_rot / 360.0\n",
    "    target_rot = target_rot / 360.0\n",
    "\n",
    "    trans_loss = nn.MSELoss()(pred_trans, target_trans)\n",
    "    rot_loss = nn.MSELoss()(pred_rot, target_rot)\n",
    "    \n",
    "    return alpha * trans_loss + beta * rot_loss\n"
   ]
  },
  {
   "cell_type": "code",
   "execution_count": 53,
   "id": "f021f0ea",
   "metadata": {
    "lines_to_next_cell": 1
   },
   "outputs": [],
   "source": [
    "model = ViT6DP().to(DEVICE)\n",
    "criterion = nn.MSELoss()\n",
    "optimizer = torch.optim.Adam(model.parameters(), lr=LEARNING_RATE)"
   ]
  },
  {
   "cell_type": "code",
   "execution_count": null,
   "id": "e01d6f41",
   "metadata": {
    "lines_to_next_cell": 1
   },
   "outputs": [],
   "source": [
    "def train(validate=True):\n",
    "    now = []\n",
    "    now.append(time.time())\n",
    "    for epoch in range(NUM_EPOCHS):\n",
    "        print(\"\\n\\n\")\n",
    "        model.train()\n",
    "        running_loss = 0.0\n",
    "        for images, labels in tqdm(train_loader):\n",
    "            \n",
    "            images, labels = images.to(DEVICE), normalize_pose(labels.to(DEVICE))\n",
    "            outputs = normalize_pose(model(images))\n",
    "\n",
    "            loss = combined_loss(outputs, labels, alpha=1.0, beta=1.0)\n",
    "\n",
    "            optimizer.zero_grad()\n",
    "            loss.backward()\n",
    "            optimizer.step()\n",
    "\n",
    "            running_loss += loss.item()\n",
    "        \n",
    "        now.append(time.time())\n",
    "        avg_train_loss = running_loss / len(train_loader)\n",
    "        print(f\"Epoch {epoch + 1}/{NUM_EPOCHS}, Train Loss: {avg_train_loss:.4f}\")\n",
    "        print(f\"Time took per epoch : {epoch+1}: {int(now[epoch+1]-now[epoch])}s\")\n",
    "        if validate:\n",
    "            # Validation\n",
    "            model.eval()\n",
    "            val_loss = 0.0\n",
    "            total_trans_rmse, total_rot_rmse = 0.0, 0.0\n",
    "\n",
    "            with torch.no_grad():\n",
    "                for images, labels in val_loader:\n",
    "                    images, labels = images.to(DEVICE), normalize_pose(labels.to(DEVICE))\n",
    "                    outputs = normalize_pose(model(images))\n",
    "                    \n",
    "                    loss = combined_loss(outputs, labels)\n",
    "                    val_loss += loss.item()\n",
    "\n",
    "                    trans_rmse, rot_rmse = compute_rmse(outputs, labels)\n",
    "                    total_trans_rmse += trans_rmse\n",
    "                    total_rot_rmse += rot_rmse\n",
    "\n",
    "            avg_val_loss = val_loss / len(val_loader)\n",
    "            print(f\"Val Loss: {avg_val_loss:.4f}\")\n",
    "            print(f\"RMSE - Translation: {total_trans_rmse / len(val_loader):.4f}, \"\n",
    "                  f\"Rotation: {total_rot_rmse / len(val_loader):.4f}\")\n",
    "        else:\n",
    "            print(\"Skipping validation for this epoch.\")"
   ]
  },
  {
   "cell_type": "code",
   "execution_count": 56,
   "id": "4bafc972",
   "metadata": {},
   "outputs": [
    {
     "name": "stderr",
     "output_type": "stream",
     "text": [
      "100%|██████████| 30/30 [00:19<00:00,  1.56it/s]\n"
     ]
    },
    {
     "name": "stdout",
     "output_type": "stream",
     "text": [
      "Epoch 1/20, Train Loss: 0.0031\n",
      "Time took per epoch : 1: 19s\n",
      "\n",
      "           Val Loss: 0.0027\n",
      "           RMSE - Translation: 0.0522, Rotation: 0.0000\n"
     ]
    },
    {
     "name": "stderr",
     "output_type": "stream",
     "text": [
      "100%|██████████| 30/30 [00:19<00:00,  1.56it/s]\n"
     ]
    },
    {
     "name": "stdout",
     "output_type": "stream",
     "text": [
      "Epoch 2/20, Train Loss: 0.0028\n",
      "Time took per epoch : 2: 20s\n",
      "\n",
      "           Val Loss: 0.0041\n",
      "           RMSE - Translation: 0.0641, Rotation: 0.0000\n"
     ]
    },
    {
     "name": "stderr",
     "output_type": "stream",
     "text": [
      "100%|██████████| 30/30 [00:19<00:00,  1.56it/s]\n"
     ]
    },
    {
     "name": "stdout",
     "output_type": "stream",
     "text": [
      "Epoch 3/20, Train Loss: 0.0025\n",
      "Time took per epoch : 3: 20s\n",
      "\n",
      "           Val Loss: 0.0019\n",
      "           RMSE - Translation: 0.0436, Rotation: 0.0000\n"
     ]
    },
    {
     "name": "stderr",
     "output_type": "stream",
     "text": [
      "100%|██████████| 30/30 [00:19<00:00,  1.55it/s]\n"
     ]
    },
    {
     "name": "stdout",
     "output_type": "stream",
     "text": [
      "Epoch 4/20, Train Loss: 0.0021\n",
      "Time took per epoch : 4: 20s\n",
      "\n",
      "           Val Loss: 0.0021\n",
      "           RMSE - Translation: 0.0459, Rotation: 0.0000\n"
     ]
    },
    {
     "name": "stderr",
     "output_type": "stream",
     "text": [
      "100%|██████████| 30/30 [00:19<00:00,  1.56it/s]\n"
     ]
    },
    {
     "name": "stdout",
     "output_type": "stream",
     "text": [
      "Epoch 5/20, Train Loss: 0.0017\n",
      "Time took per epoch : 5: 20s\n",
      "\n",
      "           Val Loss: 0.0016\n",
      "           RMSE - Translation: 0.0398, Rotation: 0.0000\n"
     ]
    },
    {
     "name": "stderr",
     "output_type": "stream",
     "text": [
      "100%|██████████| 30/30 [00:19<00:00,  1.55it/s]\n"
     ]
    },
    {
     "name": "stdout",
     "output_type": "stream",
     "text": [
      "Epoch 6/20, Train Loss: 0.0015\n",
      "Time took per epoch : 6: 20s\n",
      "\n",
      "           Val Loss: 0.0015\n",
      "           RMSE - Translation: 0.0391, Rotation: 0.0000\n"
     ]
    },
    {
     "name": "stderr",
     "output_type": "stream",
     "text": [
      "100%|██████████| 30/30 [00:19<00:00,  1.56it/s]\n"
     ]
    },
    {
     "name": "stdout",
     "output_type": "stream",
     "text": [
      "Epoch 7/20, Train Loss: 0.0015\n",
      "Time took per epoch : 7: 20s\n",
      "\n",
      "           Val Loss: 0.0014\n",
      "           RMSE - Translation: 0.0375, Rotation: 0.0000\n"
     ]
    },
    {
     "name": "stderr",
     "output_type": "stream",
     "text": [
      "100%|██████████| 30/30 [00:19<00:00,  1.56it/s]\n"
     ]
    },
    {
     "name": "stdout",
     "output_type": "stream",
     "text": [
      "Epoch 8/20, Train Loss: 0.0013\n",
      "Time took per epoch : 8: 20s\n",
      "\n",
      "           Val Loss: 0.0015\n",
      "           RMSE - Translation: 0.0384, Rotation: 0.0000\n"
     ]
    },
    {
     "name": "stderr",
     "output_type": "stream",
     "text": [
      "100%|██████████| 30/30 [00:19<00:00,  1.55it/s]\n"
     ]
    },
    {
     "name": "stdout",
     "output_type": "stream",
     "text": [
      "Epoch 9/20, Train Loss: 0.0012\n",
      "Time took per epoch : 9: 20s\n",
      "\n",
      "           Val Loss: 0.0014\n",
      "           RMSE - Translation: 0.0371, Rotation: 0.0000\n"
     ]
    },
    {
     "name": "stderr",
     "output_type": "stream",
     "text": [
      "100%|██████████| 30/30 [00:19<00:00,  1.55it/s]\n"
     ]
    },
    {
     "name": "stdout",
     "output_type": "stream",
     "text": [
      "Epoch 10/20, Train Loss: 0.0011\n",
      "Time took per epoch : 10: 21s\n",
      "\n",
      "           Val Loss: 0.0017\n",
      "           RMSE - Translation: 0.0415, Rotation: 0.0000\n"
     ]
    },
    {
     "name": "stderr",
     "output_type": "stream",
     "text": [
      "100%|██████████| 30/30 [00:19<00:00,  1.55it/s]\n"
     ]
    },
    {
     "name": "stdout",
     "output_type": "stream",
     "text": [
      "Epoch 11/20, Train Loss: 0.0012\n",
      "Time took per epoch : 11: 21s\n",
      "\n",
      "           Val Loss: 0.0013\n",
      "           RMSE - Translation: 0.0356, Rotation: 0.0000\n"
     ]
    },
    {
     "name": "stderr",
     "output_type": "stream",
     "text": [
      "100%|██████████| 30/30 [00:19<00:00,  1.54it/s]\n"
     ]
    },
    {
     "name": "stdout",
     "output_type": "stream",
     "text": [
      "Epoch 12/20, Train Loss: 0.0009\n",
      "Time took per epoch : 12: 21s\n",
      "\n",
      "           Val Loss: 0.0011\n",
      "           RMSE - Translation: 0.0329, Rotation: 0.0000\n"
     ]
    },
    {
     "name": "stderr",
     "output_type": "stream",
     "text": [
      "100%|██████████| 30/30 [00:19<00:00,  1.55it/s]\n"
     ]
    },
    {
     "name": "stdout",
     "output_type": "stream",
     "text": [
      "Epoch 13/20, Train Loss: 0.0009\n",
      "Time took per epoch : 13: 20s\n",
      "\n",
      "           Val Loss: 0.0017\n",
      "           RMSE - Translation: 0.0413, Rotation: 0.0000\n"
     ]
    },
    {
     "name": "stderr",
     "output_type": "stream",
     "text": [
      "100%|██████████| 30/30 [00:19<00:00,  1.55it/s]\n"
     ]
    },
    {
     "name": "stdout",
     "output_type": "stream",
     "text": [
      "Epoch 14/20, Train Loss: 0.0012\n",
      "Time took per epoch : 14: 20s\n",
      "\n",
      "           Val Loss: 0.0011\n",
      "           RMSE - Translation: 0.0337, Rotation: 0.0000\n"
     ]
    },
    {
     "name": "stderr",
     "output_type": "stream",
     "text": [
      "100%|██████████| 30/30 [00:19<00:00,  1.55it/s]\n"
     ]
    },
    {
     "name": "stdout",
     "output_type": "stream",
     "text": [
      "Epoch 15/20, Train Loss: 0.0007\n",
      "Time took per epoch : 15: 21s\n",
      "\n",
      "           Val Loss: 0.0015\n",
      "           RMSE - Translation: 0.0381, Rotation: 0.0000\n"
     ]
    },
    {
     "name": "stderr",
     "output_type": "stream",
     "text": [
      "100%|██████████| 30/30 [00:19<00:00,  1.55it/s]\n"
     ]
    },
    {
     "name": "stdout",
     "output_type": "stream",
     "text": [
      "Epoch 16/20, Train Loss: 0.0007\n",
      "Time took per epoch : 16: 21s\n",
      "\n",
      "           Val Loss: 0.0012\n",
      "           RMSE - Translation: 0.0351, Rotation: 0.0000\n"
     ]
    },
    {
     "name": "stderr",
     "output_type": "stream",
     "text": [
      "100%|██████████| 30/30 [00:19<00:00,  1.55it/s]\n"
     ]
    },
    {
     "name": "stdout",
     "output_type": "stream",
     "text": [
      "Epoch 17/20, Train Loss: 0.0006\n",
      "Time took per epoch : 17: 21s\n",
      "\n",
      "           Val Loss: 0.0012\n",
      "           RMSE - Translation: 0.0339, Rotation: 0.0000\n"
     ]
    },
    {
     "name": "stderr",
     "output_type": "stream",
     "text": [
      "100%|██████████| 30/30 [00:19<00:00,  1.55it/s]\n"
     ]
    },
    {
     "name": "stdout",
     "output_type": "stream",
     "text": [
      "Epoch 18/20, Train Loss: 0.0005\n",
      "Time took per epoch : 18: 21s\n",
      "\n",
      "           Val Loss: 0.0015\n",
      "           RMSE - Translation: 0.0381, Rotation: 0.0000\n"
     ]
    },
    {
     "name": "stderr",
     "output_type": "stream",
     "text": [
      "100%|██████████| 30/30 [00:19<00:00,  1.54it/s]\n"
     ]
    },
    {
     "name": "stdout",
     "output_type": "stream",
     "text": [
      "Epoch 19/20, Train Loss: 0.0005\n",
      "Time took per epoch : 19: 21s\n",
      "\n",
      "           Val Loss: 0.0013\n",
      "           RMSE - Translation: 0.0353, Rotation: 0.0000\n"
     ]
    },
    {
     "name": "stderr",
     "output_type": "stream",
     "text": [
      "100%|██████████| 30/30 [00:19<00:00,  1.55it/s]\n"
     ]
    },
    {
     "name": "stdout",
     "output_type": "stream",
     "text": [
      "Epoch 20/20, Train Loss: 0.0004\n",
      "Time took per epoch : 20: 21s\n",
      "\n",
      "           Val Loss: 0.0012\n",
      "           RMSE - Translation: 0.0345, Rotation: 0.0000\n"
     ]
    }
   ],
   "source": [
    "train(validate=True)"
   ]
  },
  {
   "cell_type": "code",
   "execution_count": 57,
   "id": "e0aa676b",
   "metadata": {},
   "outputs": [],
   "source": [
    "torch.save(model.state_dict(), MODEL_SAVE_PATH)"
   ]
  },
  {
   "cell_type": "code",
   "execution_count": 58,
   "id": "c03eac5b",
   "metadata": {
    "lines_to_next_cell": 1
   },
   "outputs": [],
   "source": [
    "test_loader = get_dataloader('test')"
   ]
  },
  {
   "cell_type": "code",
   "execution_count": 59,
   "id": "94ac53c6",
   "metadata": {
    "lines_to_next_cell": 1
   },
   "outputs": [],
   "source": [
    "def test_model(model_path):\n",
    "    model = ViT6DP().to(DEVICE)\n",
    "    model.load_state_dict(torch.load(model_path, map_location=DEVICE))\n",
    "    model.eval()\n",
    "\n",
    "    total_loss = 0.0\n",
    "    total_trans_rmse, total_rot_rmse = 0.0, 0.0\n",
    "    preds = []\n",
    "    gts = []\n",
    "\n",
    "    with torch.no_grad():\n",
    "        for images, labels in tqdm(test_loader):\n",
    "            images, labels = images.to(DEVICE), normalize_pose(labels.to(DEVICE))\n",
    "            outputs = normalize_pose(model(images))\n",
    "\n",
    "            loss = combined_loss(outputs, labels)\n",
    "            total_loss += loss.item()\n",
    "\n",
    "            trans_rmse, rot_rmse = compute_rmse(outputs, labels)\n",
    "            total_trans_rmse += trans_rmse\n",
    "            total_rot_rmse += rot_rmse\n",
    "\n",
    "            preds.extend(outputs.cpu().numpy())\n",
    "            gts.extend(labels.cpu().numpy())\n",
    "\n",
    "    avg_loss = total_loss / len(test_loader)\n",
    "    print(f\"Test Loss: {avg_loss:.4f}\")\n",
    "    print(f\"Test RMSE - Translation: {total_trans_rmse / len(test_loader):.4f}, \"\n",
    "          f\"Rotation: {total_rot_rmse / len(test_loader):.4f}\")\n",
    "\n",
    "    return preds, gts\n"
   ]
  },
  {
   "cell_type": "code",
   "execution_count": 60,
   "id": "7d947127",
   "metadata": {
    "lines_to_next_cell": 1
   },
   "outputs": [
    {
     "name": "stderr",
     "output_type": "stream",
     "text": [
      "100%|██████████| 9/9 [00:03<00:00,  2.69it/s]\n"
     ]
    },
    {
     "name": "stdout",
     "output_type": "stream",
     "text": [
      "Test Loss: 0.0010\n",
      "Test RMSE - Translation: 0.0316, Rotation: 0.0000\n"
     ]
    }
   ],
   "source": [
    "predictions, ground_truths = test_model(MODEL_SAVE_PATH)"
   ]
  },
  {
   "cell_type": "code",
   "execution_count": 61,
   "id": "19c1ff78",
   "metadata": {
    "lines_to_next_cell": 1
   },
   "outputs": [],
   "source": [
    "def validate_model(model_path):\n",
    "    model = ViT6DP().to(DEVICE)\n",
    "    model.load_state_dict(torch.load(model_path, map_location=DEVICE))\n",
    "    model.eval()\n",
    "\n",
    "    total_loss = 0.0\n",
    "    total_trans_rmse, total_rot_rmse = 0.0, 0.0\n",
    "    preds = []\n",
    "    gts = []\n",
    "\n",
    "    with torch.no_grad():\n",
    "        for images, labels in tqdm(val_loader):\n",
    "            images, labels = images.to(DEVICE), normalize_pose(labels.to(DEVICE))\n",
    "            outputs = normalize_pose(model(images))\n",
    "\n",
    "            loss = combined_loss(outputs, labels)\n",
    "            total_loss += loss.item()\n",
    "\n",
    "            trans_rmse, rot_rmse = compute_rmse(outputs, labels)\n",
    "            total_trans_rmse += trans_rmse\n",
    "            total_rot_rmse += rot_rmse\n",
    "\n",
    "            preds.extend(outputs.cpu().numpy())\n",
    "            gts.extend(labels.cpu().numpy())\n",
    "\n",
    "    avg_loss = total_loss / len(val_loader)\n",
    "    print(f\"Validation Loss: {avg_loss:.4f}\")\n",
    "    print(f\"Validation RMSE - Translation: {total_trans_rmse / len(val_loader):.4f}, \"\n",
    "          f\"Rotation: {total_rot_rmse / len(val_loader):.4f}\")\n",
    "\n",
    "    return preds, gts\n"
   ]
  },
  {
   "cell_type": "code",
   "execution_count": 62,
   "id": "1db70a1b",
   "metadata": {},
   "outputs": [
    {
     "name": "stderr",
     "output_type": "stream",
     "text": [
      "100%|██████████| 5/5 [00:01<00:00,  3.02it/s]"
     ]
    },
    {
     "name": "stdout",
     "output_type": "stream",
     "text": [
      "Validation Loss: 0.0012\n",
      "Validation RMSE - Translation: 0.0345, Rotation: 0.0000\n"
     ]
    },
    {
     "name": "stderr",
     "output_type": "stream",
     "text": [
      "\n"
     ]
    }
   ],
   "source": [
    "val_predictions, val_ground_truths = validate_model(MODEL_SAVE_PATH)"
   ]
  }
 ],
 "metadata": {
  "jupytext": {
   "cell_metadata_filter": "-all",
   "main_language": "python",
   "notebook_metadata_filter": "-all"
  },
  "kernelspec": {
   "display_name": "skripsi",
   "language": "python",
   "name": "python3"
  },
  "language_info": {
   "codemirror_mode": {
    "name": "ipython",
    "version": 3
   },
   "file_extension": ".py",
   "mimetype": "text/x-python",
   "name": "python",
   "nbconvert_exporter": "python",
   "pygments_lexer": "ipython3",
   "version": "3.12.3"
  }
 },
 "nbformat": 4,
 "nbformat_minor": 5
}
